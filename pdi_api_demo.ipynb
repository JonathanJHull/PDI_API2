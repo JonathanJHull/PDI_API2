{
 "cells": [
  {
   "cell_type": "markdown",
   "metadata": {},
   "source": [
    "# PDI API\n",
    "\n",
    "- Explore what it can do\n",
    "- If you'd like to try this out, request an API key from support@politicaldata.com\n",
    "- You should get a Username, Password, and ApiToken.\n",
    "\n",
    "It took a bit of time to figure some of this out, so I thought I'd share this with others in case you're curious about the API.\n",
    "\n",
    "Jonathan Hull - 8/18/22 - hull39@gmail.com\n",
    "\n",
    "Ref. https://api.bluevote.com/docs/index#/"
   ]
  },
  {
   "cell_type": "code",
   "execution_count": 7,
   "metadata": {},
   "outputs": [
    {
     "data": {
      "application/javascript": [
       "IPython.OutputArea.prototype._should_scroll = function(lines) {\n",
       "    return false;\n",
       "}\n"
      ],
      "text/plain": [
       "<IPython.core.display.Javascript object>"
      ]
     },
     "metadata": {},
     "output_type": "display_data"
    }
   ],
   "source": [
    "%%javascript\n",
    "IPython.OutputArea.prototype._should_scroll = function(lines) {\n",
    "    return false;\n",
    "}"
   ]
  },
  {
   "cell_type": "code",
   "execution_count": 8,
   "metadata": {},
   "outputs": [],
   "source": [
    "import pandas as pd\n",
    "import json\n",
    "import requests\n",
    "from   pandas.io.json import json_normalize  \n",
    "\n",
    "from   IPython.display import display # Allows the use of display() for DataFrames\n",
    "from   IPython.core.display import ( display, HTML )"
   ]
  },
  {
   "cell_type": "markdown",
   "metadata": {},
   "source": [
    "## Get the Access Token you'll need for subsequent API calls\n",
    "- as documented in https://api.bluevote.com/docs/index#/"
   ]
  },
  {
   "cell_type": "code",
   "execution_count": 9,
   "metadata": {},
   "outputs": [
    {
     "name": "stdout",
     "output_type": "stream",
     "text": [
      "Success\n"
     ]
    }
   ],
   "source": [
    "URL = \"https://api.bluevote.com/sessions\"\n",
    "\n",
    "headers = {\n",
    "    \"accept\": \"application/json\",\n",
    "    \"Content-Type\": \"application/json\"\n",
    "}\n",
    "\n",
    "# substitute your values below\n",
    "params = {\n",
    "    \"Username\": \"\",\n",
    "    \"Password\": \"\",\n",
    "    \"ApiToken\": \"\"\n",
    "}\n",
    "\n",
    "resp = requests.post(URL, headers = headers ,data=json.dumps(params))\n",
    "\n",
    "if resp.status_code != 200:\n",
    "    raise Exception('error: ' + str(resp.status_code))\n",
    "\n",
    "\n",
    "tk = json.loads(resp.text)['AccessToken']\n",
    "print('Success')"
   ]
  },
  {
   "cell_type": "markdown",
   "metadata": {},
   "source": [
    "## See what works\n",
    "Response codes of 200 indicate the call was successful.  400 means the call was unsuccessful.  The Events calls didn't work for me.  If you determine how to fix them, please let me know."
   ]
  },
  {
   "cell_type": "code",
   "execution_count": 10,
   "metadata": {},
   "outputs": [
    {
     "name": "stdout",
     "output_type": "stream",
     "text": [
      "acquisition_types was successful\n",
      "activities was successful\n",
      "contacts was successful\n",
      "calendars was successful\n",
      "candidates was successful\n",
      "eventActivities returned status code = 400\n",
      "eventActivityAssignments returned status code = 400\n",
      "events returned status code = 400\n",
      "files was successful\n",
      "flag_ids was successful\n",
      "flags returned status code = 400\n",
      "groups was successful\n",
      "locations was successful\n",
      "questions was successful\n",
      "universes was successful\n"
     ]
    }
   ],
   "source": [
    "header = {\n",
    "  \"Authorization\":  \"Bearer %s\" % (tk),\n",
    "  'content-type': \"application/json\"\n",
    "}\n",
    "\n",
    "#\n",
    "# GET commands from the API doc\n",
    "#\n",
    "commands = ['acquisition_types','activities','contacts','calendars','candidates',\n",
    "           'eventActivities','eventActivityAssignments','events','files',\n",
    "           'flag_ids','flags','groups','locations','questions','universes']\n",
    "\n",
    "base_url = 'https://api.bluevote.com/'\n",
    "\n",
    "for c in commands:\n",
    "    url = base_url + c\n",
    "    resp = requests.get(url, headers = header)\n",
    "    if resp.status_code == 200:\n",
    "        print(\"%s was successful\" % (c))\n",
    "    else:\n",
    "        print(\"%s returned status code = %d\" % (c, resp.status_code))"
   ]
  },
  {
   "cell_type": "markdown",
   "metadata": {},
   "source": [
    "## Display first 2000 people in the People db\n",
    "\n",
    "I could only get the first 2000 people.  If you find out how to get more, please let me know. "
   ]
  },
  {
   "cell_type": "code",
   "execution_count": 11,
   "metadata": {},
   "outputs": [
    {
     "name": "stdout",
     "output_type": "stream",
     "text": [
      "<Response [200]> None\n"
     ]
    },
    {
     "data": {
      "text/html": [
       "<div>\n",
       "<style scoped>\n",
       "    .dataframe tbody tr th:only-of-type {\n",
       "        vertical-align: middle;\n",
       "    }\n",
       "\n",
       "    .dataframe tbody tr th {\n",
       "        vertical-align: top;\n",
       "    }\n",
       "\n",
       "    .dataframe thead th {\n",
       "        text-align: right;\n",
       "    }\n",
       "</style>\n",
       "<table border=\"1\" class=\"dataframe\">\n",
       "  <thead>\n",
       "    <tr style=\"text-align: right;\">\n",
       "      <th></th>\n",
       "      <th>data</th>\n",
       "      <th>totalCount</th>\n",
       "    </tr>\n",
       "  </thead>\n",
       "  <tbody>\n",
       "    <tr>\n",
       "      <th>0</th>\n",
       "      <td>[{'id': '98Wz7xPe4Rx07NvkrJ--ug==', 'pdiId': '...</td>\n",
       "      <td>4343</td>\n",
       "    </tr>\n",
       "  </tbody>\n",
       "</table>\n",
       "</div>"
      ],
      "text/plain": [
       "                                                data  totalCount\n",
       "0  [{'id': '98Wz7xPe4Rx07NvkrJ--ug==', 'pdiId': '...        4343"
      ]
     },
     "metadata": {},
     "output_type": "display_data"
    }
   ],
   "source": [
    "URL = \"https://api.bluevote.com/contacts/\"\n",
    "\n",
    "header = {\n",
    "  \"Authorization\":  \"Bearer %s\" % (tk),\n",
    "  'content-type': \"application/json\"\n",
    "}\n",
    "resp = requests.get(URL, headers = header)\n",
    "print(resp, resp.next)\n",
    "\n",
    "res      = json.loads(resp.content.decode('utf-8'))\n",
    "display(pd.json_normalize(res))\n",
    "people_df = pd.json_normalize(res, 'data')\n",
    "# uncomment this to see your people\n",
    "#display(people_df)"
   ]
  },
  {
   "cell_type": "code",
   "execution_count": null,
   "metadata": {},
   "outputs": [],
   "source": []
  }
 ],
 "metadata": {
  "interpreter": {
   "hash": "0e89e3d0af674e8c8cd9b184309f4bcfb1cabe199ab2aa8b3ae49de67237c34a"
  },
  "kernelspec": {
   "display_name": "Python 3 (ipykernel)",
   "language": "python",
   "name": "python3"
  },
  "language_info": {
   "codemirror_mode": {
    "name": "ipython",
    "version": 3
   },
   "file_extension": ".py",
   "mimetype": "text/x-python",
   "name": "python",
   "nbconvert_exporter": "python",
   "pygments_lexer": "ipython3",
   "version": "3.9.12"
  }
 },
 "nbformat": 4,
 "nbformat_minor": 2
}
